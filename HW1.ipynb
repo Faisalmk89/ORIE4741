# We'll use the PyPlot (matplotlib) plotting library:
# It works exactly as it would in Python.
using PyPlot


