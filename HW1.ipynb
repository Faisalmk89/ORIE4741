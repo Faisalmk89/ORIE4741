# test:
# We'll use the PyPlot (matplotlib) plotting library:
# It works exactly as it would in Python.
using PyPlot

# don't change this: it sets the random number generator, 
# so everyone in the class will have consistent results
srand(17)

# set dimensions
n = 50
d = 2
# generate input: the rows of X are the data points
# notice the last column encodes the offset
X = [randn(n, d) ones(n)]

# Generate the target function w♮
# Store the correct decision for each datapoint in y
w♮ = randn(d+1)
y = sign(X*w♮);

# plot data points X and color according to y
clf()
hold(true)
axis("off")
for i=1:n
    plot(X[i,1], X[i,2], y[i]==1 ? "ro" : "bd")
end

# set figure limits
ylim([-2,2])
xlim([-2,2])
savefig("perceptron_data_hw1.eps")

"""
This function takes data points X, plots them, and colors them correctly according to y.
This function also plots the line w'*x = 0.
We are plotting just the first two dimensions of x; 
the last (offset) coordinate of w sets the offset of the line from the origin.
"""
function plot_perceptron(X,y,w)
    # plot data points X and color according to y
    clf()
    hold(true)
    axis("off")
    for i=1:n
        plot(X[i,1], X[i,2], y[i]==1 ? "ro" : "bd")
    end
    
    # plot vector w
    x1samples = [minimum(X[:,1]), maximum(X[:,1])]
    if w[2]!=0
        plot(x1samples, [-(w[1]*x1 + w[3])/w[2] for x1 in x1samples], color="black")
    end
    
    # set figure limits
    ylim([-2,2])
    xlim([-2,2])
end
# Double check our function by plotting the points with the truth vector 
plot_perceptron(X,y,w♮)

"""
the following function gets a vector point of X_i and a point y (y_i) and checks if X_i is classified correctly
or it is misclassified.
"""
function checkClassification02(vector,point)
    dummyResult = w*vector*point;
    println(dummyResult)
    if dummyResult <= 0
        return false
    else 
        return true
    end
end

counter = 0
wOld = w
wNew = wOld
for i = 1:X_rows
    if checkClassification02(wOld,X[i,:],y[i])
        println("Success")
    else
        wNew = wNew + (X[i,:]*y[i])'
    end
end
