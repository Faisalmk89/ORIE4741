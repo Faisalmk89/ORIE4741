Pkg.add("Gadfly")
using DataFrames, Gadfly

# load data
tax = readtable("incomeTaxData.csv")
# clean data
tax = tax[!isna(tax[:ReturnCount]), :];
sort(tax, cols = :Year)

# create new columns
tax[:avg_tax] = tax[:TotalTaxLiability]./tax[:ReturnCount];
tax

# get the number of rows and columns of the dataset
n, m = size(tax)
# create a dictionary to calculate the number of individuals who reported in each income class
# keys of the dictionary are the "IncomeClass" and values are number of people who reported.
tompkinsDict = Dict{AbstractString ,Int64}()
for i = 1:n
    if tax[i,2] == "Tompkins"
        # do something
        if (get(tompkinsDict,tax[i,3],0) == 0)
            # add that income level to the dictionary
            tompkinsDict[tax[i,3]] = 1
        else
            # add one more value to the existing key
            tompkinsDict[tax[i,3]] = tompkinsDict[tax[i,3]] + 1
        end
    end
end
tompkinsDict # 

# values(tompkinsDict)
# b = bar(keys(tompkinsDict),values(tompkinsDict),color="#0f87bf",align="center",alpha=0.4)

using PyPlot
ioff() # Interactive plotting OFF, necessary for inline plotting in IJulia

#################
#  Create Data  #
#################
x11 = keys(tompkinsDict);
y11 = values(tompkinsDict);


################
##  Bar Plot  ##
################
fig = figure("pyplot_barplot",figsize=(10,10))
subplot(211)
b = bar(x11,y11,color="#0f87bf",align="center",alpha=0.4)
axis("tight")
title("Vertical Bar Plot")
grid("on")
xlabel("X")
ylabel("Y")


gcf() # Needed for IJulia to plot inline


using Plotly


data = [
  [
    "x" => keys(tompkinsDict),
    "y" => values(tompkinsDict),
    "type" => "bar"
  ]
]
response = Plotly.plot(data, ["filename" => "basic-bar", "fileopt" => "overwrite"])
plot_url = response["url"]

