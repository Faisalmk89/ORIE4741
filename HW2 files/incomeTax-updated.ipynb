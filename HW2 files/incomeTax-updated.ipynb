{
 "cells": [
  {
   "cell_type": "code",
   "execution_count": 2,
   "metadata": {
    "collapsed": false
   },
   "outputs": [
    {
     "name": "stderr",
     "output_type": "stream",
     "text": [
      "\u001b[1m\u001b[34mINFO: Initializing package repository /home/juser/.julia/v0.4\n",
      "\u001b[0m\u001b[1m\u001b[34mINFO: Cloning METADATA from git://github.com/JuliaLang/METADATA.jl\n",
      "\u001b[0mfatal: cannot create directory at 'QuartzImageIO/versions/0.0.3': No space left on device\n",
      "warning: Clone succeeded, but checkout failed.\n",
      "You can inspect what was checked out with 'git status'\n",
      "and retry the checkout with 'git checkout -f HEAD'\n",
      "\n"
     ]
    },
    {
     "ename": "LoadError",
     "evalue": "failed process: Process(`git clone -q -b metadata-v2 git://github.com/JuliaLang/METADATA.jl METADATA`, ProcessExited(128)) [128]",
     "output_type": "error",
     "traceback": [
      "failed process: Process(`git clone -q -b metadata-v2 git://github.com/JuliaLang/METADATA.jl METADATA`, ProcessExited(128)) [128]",
      "",
      " in run at ./process.jl:531",
      " in anonymous at pkg/dir.jl:52",
      " in cd at ./file.jl:22",
      " in init at pkg/dir.jl:50",
      " in cd at pkg/dir.jl:28",
      " in add at pkg.jl:23"
     ]
    }
   ],
   "source": [
    "Pkg.add(\"Gadfly\")\n",
    "using DataFrames, Gadfly"
   ]
  },
  {
   "cell_type": "code",
   "execution_count": 3,
   "metadata": {
    "collapsed": false,
    "scrolled": true
   },
   "outputs": [
    {
     "data": {
      "text/html": [
       "<table class=\"data-frame\"><thead><tr><th></th><th>Year</th><th>County</th><th>IncomeClass</th><th>Disclosure</th><th>ReturnCount</th><th>TotalIncome</th><th>TotalDeductions</th><th>TotalExemptions</th><th>TotalTaxableIncome</th><th>TotalTaxBeforeCredits</th><th>TotalTaxLiability</th><th>Place_of_Residence_Sort_Order</th><th>Income_Class_Sort_Order</th></tr></thead><tbody><tr><th>1</th><td>2011</td><td>Hamilton</td><td>500,000 and over</td><td>d/</td><td>NA</td><td>NA</td><td>NA</td><td>NA</td><td>NA</td><td>NA</td><td>NA</td><td>26</td><td>13</td></tr><tr><th>2</th><td>2003</td><td>Dutchess</td><td>100,000 - 199,999</td><td>NA</td><td>12738</td><td>1668991</td><td>261775</td><td>16628</td><td>1390589</td><td>91652</td><td>87689</td><td>19</td><td>10</td></tr><tr><th>3</th><td>2001</td><td>Ontario</td><td>Total</td><td>NA</td><td>44898</td><td>1829734</td><td>449962</td><td>25393</td><td>1354378</td><td>77454</td><td>72764</td><td>38</td><td>12</td></tr><tr><th>4</th><td>2012</td><td>New York City - Richmond</td><td>30,000 - 39,999</td><td>NA</td><td>16086</td><td>559918</td><td>192402</td><td>10519</td><td>356997</td><td>17286</td><td>12238</td><td>5</td><td>5</td></tr><tr><th>5</th><td>2007</td><td>Clinton</td><td>50,000 - 59,999</td><td>NA</td><td>2197</td><td>120482</td><td>29429</td><td>1649</td><td>89404</td><td>4738</td><td>4220</td><td>15</td><td>7</td></tr><tr><th>6</th><td>1999</td><td>Saratoga</td><td>Total</td><td>NA</td><td>88920</td><td>3969074</td><td>883753</td><td>51293</td><td>3034030</td><td>175973</td><td>169908</td><td>47</td><td>12</td></tr><tr><th>7</th><td>2010</td><td>Onondaga</td><td>60,000 - 74,999</td><td>NA</td><td>13837</td><td>928570</td><td>195635</td><td>11010</td><td>721925</td><td>40503</td><td>37426</td><td>37</td><td>8</td></tr><tr><th>8</th><td>2008</td><td>Ulster</td><td>40,000 - 49,999</td><td>NA</td><td>5971</td><td>266988</td><td>77044</td><td>3435</td><td>186509</td><td>9728</td><td>8672</td><td>57</td><td>6</td></tr><tr><th>9</th><td>2005</td><td>Clinton</td><td>Total</td><td>NA</td><td>33634</td><td>1284580</td><td>332270</td><td>17436</td><td>934774</td><td>53837</td><td>44740</td><td>15</td><td>12</td></tr><tr><th>10</th><td>2007</td><td>Livingston</td><td>200,000 - 249,999</td><td>NA</td><td>104</td><td>22811</td><td>2165</td><td>135</td><td>20511</td><td>1405</td><td>872</td><td>30</td><td>11</td></tr><tr><th>11</th><td>2012</td><td>Washington</td><td>500,000 and over</td><td>NA</td><td>35</td><td>44397</td><td>1770</td><td>12</td><td>42614</td><td>3256</td><td>3033</td><td>59</td><td>13</td></tr><tr><th>12</th><td>2011</td><td>New York City - Kings</td><td>100,000 - 199,999</td><td>NA</td><td>65072</td><td>8717982</td><td>1220269</td><td>57409</td><td>7440304</td><td>491796</td><td>471949</td><td>2</td><td>10</td></tr><tr><th>13</th><td>2005</td><td>Westchester</td><td>50,000 - 59,999</td><td>NA</td><td>23546</td><td>1290957</td><td>352369</td><td>14290</td><td>924254</td><td>50946</td><td>47133</td><td>61</td><td>7</td></tr><tr><th>14</th><td>2004</td><td>Orange</td><td>60,000 - 74,999</td><td>NA</td><td>11545</td><td>776872</td><td>193880</td><td>12641</td><td>570351</td><td>31384</td><td>29250</td><td>39</td><td>8</td></tr><tr><th>15</th><td>2008</td><td>Dutchess</td><td>75,000 - 99,999</td><td>NA</td><td>12391</td><td>1077050</td><td>243939</td><td>12581</td><td>820530</td><td>47708</td><td>43152</td><td>19</td><td>9</td></tr><tr><th>16</th><td>2012</td><td>Cortland</td><td>30,000 - 39,999</td><td>NA</td><td>2069</td><td>71838</td><td>22572</td><td>1308</td><td>47958</td><td>2323</td><td>1569</td><td>17</td><td>5</td></tr><tr><th>17</th><td>2000</td><td>New York City - Kings</td><td>5,000 - 9,999</td><td>NA</td><td>125794</td><td>951643</td><td>885145</td><td>1297</td><td>65177</td><td>2609</td><td>-33624</td><td>2</td><td>2</td></tr><tr><th>18</th><td>2008</td><td>Dutchess</td><td>60,000 - 74,999</td><td>NA</td><td>9577</td><td>643643</td><td>162693</td><td>7664</td><td>473287</td><td>26541</td><td>23772</td><td>19</td><td>8</td></tr><tr><th>19</th><td>2012</td><td>Ulster</td><td>5,000 - 9,999</td><td>NA</td><td>7048</td><td>52553</td><td>44434</td><td>68</td><td>8051</td><td>322</td><td>-990</td><td>57</td><td>2</td></tr><tr><th>20</th><td>2010</td><td>Ontario</td><td>200,000 - 249,999</td><td>NA</td><td>408</td><td>90828</td><td>9708</td><td>535</td><td>80585</td><td>5524</td><td>5281</td><td>38</td><td>11</td></tr><tr><th>21</th><td>2006</td><td>Oswego</td><td>100,000 - 199,999</td><td>NA</td><td>2778</td><td>346108</td><td>49078</td><td>3367</td><td>293655</td><td>18928</td><td>18020</td><td>41</td><td>10</td></tr><tr><th>22</th><td>2010</td><td>Oswego</td><td>Total</td><td>NA</td><td>50958</td><td>2023764</td><td>519529</td><td>28462</td><td>1492712</td><td>86962</td><td>72297</td><td>41</td><td>14</td></tr><tr><th>23</th><td>2002</td><td>Sullivan</td><td>50,000 - 59,999</td><td>NA</td><td>1676</td><td>91734</td><td>22835</td><td>1638</td><td>67261</td><td>3508</td><td>3397</td><td>54</td><td>7</td></tr><tr><th>24</th><td>2010</td><td>Rockland</td><td>10,000 - 19,999</td><td>NA</td><td>18173</td><td>268331</td><td>182753</td><td>7661</td><td>77918</td><td>3182</td><td>-7399</td><td>45</td><td>3</td></tr><tr><th>25</th><td>2003</td><td>Delaware</td><td>60,000 - 74,999</td><td>NA</td><td>1075</td><td>71844</td><td>15672</td><td>1093</td><td>55079</td><td>2974</td><td>2893</td><td>18</td><td>8</td></tr><tr><th>26</th><td>2005</td><td>Washington</td><td>75,000 - 99,999</td><td>NA</td><td>1572</td><td>135013</td><td>24832</td><td>1705</td><td>108477</td><td>6233</td><td>5794</td><td>59</td><td>9</td></tr><tr><th>27</th><td>2002</td><td>Fulton</td><td>100,000 - 199,999</td><td>NA</td><td>632</td><td>80160</td><td>10662</td><td>659</td><td>68840</td><td>4455</td><td>4380</td><td>23</td><td>10</td></tr><tr><th>28</th><td>2006</td><td>Schoharie</td><td>20,000 - 29,999</td><td>NA</td><td>1769</td><td>43849</td><td>18874</td><td>1040</td><td>23935</td><td>1066</td><td>486</td><td>49</td><td>4</td></tr><tr><th>29</th><td>2003</td><td>Genesee</td><td>40,000 - 49,999</td><td>NA</td><td>2154</td><td>96606</td><td>27572</td><td>2161</td><td>66873</td><td>3289</td><td>3166</td><td>24</td><td>6</td></tr><tr><th>30</th><td>2007</td><td>Seneca</td><td>40,000 - 49,999</td><td>NA</td><td>1174</td><td>52525</td><td>14772</td><td>902</td><td>36851</td><td>1871</td><td>1517</td><td>51</td><td>6</td></tr><tr><th>&vellip;</th><td>&vellip;</td><td>&vellip;</td><td>&vellip;</td><td>&vellip;</td><td>&vellip;</td><td>&vellip;</td><td>&vellip;</td><td>&vellip;</td><td>&vellip;</td><td>&vellip;</td><td>&vellip;</td><td>&vellip;</td><td>&vellip;</td></tr></tbody></table>"
      ],
      "text/plain": [
       "12589×13 DataFrames.DataFrame\n",
       "│ Row   │ Year │ County                     │ IncomeClass         │ Disclosure │\n",
       "├───────┼──────┼────────────────────────────┼─────────────────────┼────────────┤\n",
       "│ 1     │ 2011 │ \"Hamilton\"                 │ \"500,000 and over\"  │ \"d/\"       │\n",
       "│ 2     │ 2003 │ \"Dutchess\"                 │ \"100,000 - 199,999\" │ NA         │\n",
       "│ 3     │ 2001 │ \"Ontario\"                  │ \"Total\"             │ NA         │\n",
       "│ 4     │ 2012 │ \"New York City - Richmond\" │ \"30,000 - 39,999\"   │ NA         │\n",
       "│ 5     │ 2007 │ \"Clinton\"                  │ \"50,000 - 59,999\"   │ NA         │\n",
       "│ 6     │ 1999 │ \"Saratoga\"                 │ \"Total\"             │ NA         │\n",
       "│ 7     │ 2010 │ \"Onondaga\"                 │ \"60,000 - 74,999\"   │ NA         │\n",
       "│ 8     │ 2008 │ \"Ulster\"                   │ \"40,000 - 49,999\"   │ NA         │\n",
       "│ 9     │ 2005 │ \"Clinton\"                  │ \"Total\"             │ NA         │\n",
       "│ 10    │ 2007 │ \"Livingston\"               │ \"200,000 - 249,999\" │ NA         │\n",
       "│ 11    │ 2012 │ \"Washington\"               │ \"500,000 and over\"  │ NA         │\n",
       "⋮\n",
       "│ 12578 │ 2013 │ \"Residence Unknown ++\"     │ \"10,000 - 19,999\"   │ NA         │\n",
       "│ 12579 │ 2013 │ \"Residence Unknown ++\"     │ \"20,000 - 29,999\"   │ NA         │\n",
       "│ 12580 │ 2013 │ \"Residence Unknown ++\"     │ \"30,000 - 39,999\"   │ NA         │\n",
       "│ 12581 │ 2013 │ \"Residence Unknown ++\"     │ \"40,000 - 49,999\"   │ NA         │\n",
       "│ 12582 │ 2013 │ \"Residence Unknown ++\"     │ \"50,000 - 59,999\"   │ NA         │\n",
       "│ 12583 │ 2013 │ \"Residence Unknown ++\"     │ \"60,000 - 74,999\"   │ NA         │\n",
       "│ 12584 │ 2013 │ \"Residence Unknown ++\"     │ \"75,000 - 99,999\"   │ NA         │\n",
       "│ 12585 │ 2013 │ \"Residence Unknown ++\"     │ \"100,000 - 199,999\" │ NA         │\n",
       "│ 12586 │ 2013 │ \"Residence Unknown ++\"     │ \"200,000 - 249,999\" │ NA         │\n",
       "│ 12587 │ 2013 │ \"Residence Unknown ++\"     │ \"250,000 - 499,999\" │ NA         │\n",
       "│ 12588 │ 2013 │ \"Residence Unknown ++\"     │ \"500,000 and over\"  │ NA         │\n",
       "│ 12589 │ 2013 │ \"Residence Unknown ++\"     │ \"Total\"             │ NA         │\n",
       "\n",
       "│ Row   │ ReturnCount │ TotalIncome │ TotalDeductions │ TotalExemptions │\n",
       "├───────┼─────────────┼─────────────┼─────────────────┼─────────────────┤\n",
       "│ 1     │ NA          │ NA          │ NA              │ NA              │\n",
       "│ 2     │ 12738       │ 1668991     │ 261775          │ 16628           │\n",
       "│ 3     │ 44898       │ 1829734     │ 449962          │ 25393           │\n",
       "│ 4     │ 16086       │ 559918      │ 192402          │ 10519           │\n",
       "│ 5     │ 2197        │ 120482      │ 29429           │ 1649            │\n",
       "│ 6     │ 88920       │ 3969074     │ 883753          │ 51293           │\n",
       "│ 7     │ 13837       │ 928570      │ 195635          │ 11010           │\n",
       "│ 8     │ 5971        │ 266988      │ 77044           │ 3435            │\n",
       "│ 9     │ 33634       │ 1284580     │ 332270          │ 17436           │\n",
       "│ 10    │ 104         │ 22811       │ 2165            │ 135             │\n",
       "│ 11    │ 35          │ 44397       │ 1770            │ 12              │\n",
       "⋮\n",
       "│ 12578 │ 1118        │ 16366       │ 11013           │ 475             │\n",
       "│ 12579 │ 741         │ 18389       │ 8519            │ 611             │\n",
       "│ 12580 │ 555         │ 19240       │ 6821            │ 473             │\n",
       "│ 12581 │ 341         │ 15309       │ 4797            │ 230             │\n",
       "│ 12582 │ 299         │ 16294       │ 4246            │ 137             │\n",
       "│ 12583 │ 294         │ 19698       │ 4452            │ 167             │\n",
       "│ 12584 │ 349         │ 30106       │ 6249            │ 190             │\n",
       "│ 12585 │ 527         │ 74543       │ 10177           │ 282             │\n",
       "│ 12586 │ 127         │ 28013       │ 3219            │ 93              │\n",
       "│ 12587 │ 223         │ 79218       │ 5876            │ 174             │\n",
       "│ 12588 │ 326         │ 872846      │ 14092           │ 290             │\n",
       "│ 12589 │ 7612        │ 1087357     │ 85023           │ 3138            │\n",
       "\n",
       "│ Row   │ TotalTaxableIncome │ TotalTaxBeforeCredits │ TotalTaxLiability │\n",
       "├───────┼────────────────────┼───────────────────────┼───────────────────┤\n",
       "│ 1     │ NA                 │ NA                    │ NA                │\n",
       "│ 2     │ 1390589            │ 91652                 │ 87689             │\n",
       "│ 3     │ 1354378            │ 77454                 │ 72764             │\n",
       "│ 4     │ 356997             │ 17286                 │ 12238             │\n",
       "│ 5     │ 89404              │ 4738                  │ 4220              │\n",
       "│ 6     │ 3034030            │ 175973                │ 169908            │\n",
       "│ 7     │ 721925             │ 40503                 │ 37426             │\n",
       "│ 8     │ 186509             │ 9728                  │ 8672              │\n",
       "│ 9     │ 934774             │ 53837                 │ 44740             │\n",
       "│ 10    │ 20511              │ 1405                  │ 872               │\n",
       "│ 11    │ 42614              │ 3256                  │ 3033              │\n",
       "⋮\n",
       "│ 12578 │ 4878               │ 198                   │ -334              │\n",
       "│ 12579 │ 9259               │ 409                   │ 47                │\n",
       "│ 12580 │ 11946              │ 569                   │ 302               │\n",
       "│ 12581 │ 10283              │ 522                   │ 434               │\n",
       "│ 12582 │ 11911              │ 639                   │ 557               │\n",
       "│ 12583 │ 15079              │ 838                   │ 770               │\n",
       "│ 12584 │ 23667              │ 1366                  │ 1247              │\n",
       "│ 12585 │ 64083              │ 4095                  │ 3720              │\n",
       "│ 12586 │ 24702              │ 1643                  │ 1469              │\n",
       "│ 12587 │ 73168              │ 4972                  │ 4492              │\n",
       "│ 12588 │ 858465             │ 71780                 │ 63360             │\n",
       "│ 12589 │ 1107923            │ 87051                 │ 75763             │\n",
       "\n",
       "│ Row   │ Place_of_Residence_Sort_Order │ Income_Class_Sort_Order │\n",
       "├───────┼───────────────────────────────┼─────────────────────────┤\n",
       "│ 1     │ 26                            │ 13                      │\n",
       "│ 2     │ 19                            │ 10                      │\n",
       "│ 3     │ 38                            │ 12                      │\n",
       "│ 4     │ 5                             │ 5                       │\n",
       "│ 5     │ 15                            │ 7                       │\n",
       "│ 6     │ 47                            │ 12                      │\n",
       "│ 7     │ 37                            │ 8                       │\n",
       "│ 8     │ 57                            │ 6                       │\n",
       "│ 9     │ 15                            │ 12                      │\n",
       "│ 10    │ 30                            │ 11                      │\n",
       "│ 11    │ 59                            │ 13                      │\n",
       "⋮\n",
       "│ 12578 │ 66                            │ 3                       │\n",
       "│ 12579 │ 66                            │ 4                       │\n",
       "│ 12580 │ 66                            │ 5                       │\n",
       "│ 12581 │ 66                            │ 6                       │\n",
       "│ 12582 │ 66                            │ 7                       │\n",
       "│ 12583 │ 66                            │ 8                       │\n",
       "│ 12584 │ 66                            │ 9                       │\n",
       "│ 12585 │ 66                            │ 10                      │\n",
       "│ 12586 │ 66                            │ 11                      │\n",
       "│ 12587 │ 66                            │ 12                      │\n",
       "│ 12588 │ 66                            │ 13                      │\n",
       "│ 12589 │ 66                            │ 14                      │"
      ]
     },
     "execution_count": 3,
     "metadata": {},
     "output_type": "execute_result"
    }
   ],
   "source": [
    "# load data\n",
    "tax = readtable(\"incomeTaxData.csv\")"
   ]
  },
  {
   "cell_type": "markdown",
   "metadata": {},
   "source": [
    "You can see just from the first line of the dataset that the there are some rows with no returns associated with it. Let's delete those from the dataset.\n",
    "\n",
    "Also note that all of the data is in thousands of dollars."
   ]
  },
  {
   "cell_type": "code",
   "execution_count": 6,
   "metadata": {
    "collapsed": false
   },
   "outputs": [
    {
     "data": {
      "text/html": [
       "<table class=\"data-frame\"><thead><tr><th></th><th>Year</th><th>County</th><th>IncomeClass</th><th>Disclosure</th><th>ReturnCount</th><th>TotalIncome</th><th>TotalDeductions</th><th>TotalExemptions</th><th>TotalTaxableIncome</th><th>TotalTaxBeforeCredits</th><th>TotalTaxLiability</th><th>Place_of_Residence_Sort_Order</th><th>Income_Class_Sort_Order</th><th>avg_tax</th></tr></thead><tbody><tr><th>1</th><td>2003</td><td>Dutchess</td><td>100,000 - 199,999</td><td>NA</td><td>12738</td><td>1668991</td><td>261775</td><td>16628</td><td>1390589</td><td>91652</td><td>87689</td><td>19</td><td>10</td><td>6.88404773119799</td></tr><tr><th>2</th><td>2001</td><td>Ontario</td><td>Total</td><td>NA</td><td>44898</td><td>1829734</td><td>449962</td><td>25393</td><td>1354378</td><td>77454</td><td>72764</td><td>38</td><td>12</td><td>1.6206512539534055</td></tr><tr><th>3</th><td>2012</td><td>New York City - Richmond</td><td>30,000 - 39,999</td><td>NA</td><td>16086</td><td>559918</td><td>192402</td><td>10519</td><td>356997</td><td>17286</td><td>12238</td><td>5</td><td>5</td><td>0.7607857764515727</td></tr><tr><th>4</th><td>2007</td><td>Clinton</td><td>50,000 - 59,999</td><td>NA</td><td>2197</td><td>120482</td><td>29429</td><td>1649</td><td>89404</td><td>4738</td><td>4220</td><td>15</td><td>7</td><td>1.9208010923987255</td></tr><tr><th>5</th><td>1999</td><td>Saratoga</td><td>Total</td><td>NA</td><td>88920</td><td>3969074</td><td>883753</td><td>51293</td><td>3034030</td><td>175973</td><td>169908</td><td>47</td><td>12</td><td>1.9107962213225371</td></tr><tr><th>6</th><td>2010</td><td>Onondaga</td><td>60,000 - 74,999</td><td>NA</td><td>13837</td><td>928570</td><td>195635</td><td>11010</td><td>721925</td><td>40503</td><td>37426</td><td>37</td><td>8</td><td>2.7047770470477706</td></tr><tr><th>7</th><td>2008</td><td>Ulster</td><td>40,000 - 49,999</td><td>NA</td><td>5971</td><td>266988</td><td>77044</td><td>3435</td><td>186509</td><td>9728</td><td>8672</td><td>57</td><td>6</td><td>1.4523530396918438</td></tr><tr><th>8</th><td>2005</td><td>Clinton</td><td>Total</td><td>NA</td><td>33634</td><td>1284580</td><td>332270</td><td>17436</td><td>934774</td><td>53837</td><td>44740</td><td>15</td><td>12</td><td>1.3302015817327704</td></tr><tr><th>9</th><td>2007</td><td>Livingston</td><td>200,000 - 249,999</td><td>NA</td><td>104</td><td>22811</td><td>2165</td><td>135</td><td>20511</td><td>1405</td><td>872</td><td>30</td><td>11</td><td>8.384615384615385</td></tr><tr><th>10</th><td>2012</td><td>Washington</td><td>500,000 and over</td><td>NA</td><td>35</td><td>44397</td><td>1770</td><td>12</td><td>42614</td><td>3256</td><td>3033</td><td>59</td><td>13</td><td>86.65714285714286</td></tr><tr><th>11</th><td>2011</td><td>New York City - Kings</td><td>100,000 - 199,999</td><td>NA</td><td>65072</td><td>8717982</td><td>1220269</td><td>57409</td><td>7440304</td><td>491796</td><td>471949</td><td>2</td><td>10</td><td>7.2527200639291864</td></tr><tr><th>12</th><td>2005</td><td>Westchester</td><td>50,000 - 59,999</td><td>NA</td><td>23546</td><td>1290957</td><td>352369</td><td>14290</td><td>924254</td><td>50946</td><td>47133</td><td>61</td><td>7</td><td>2.0017412724029557</td></tr><tr><th>13</th><td>2004</td><td>Orange</td><td>60,000 - 74,999</td><td>NA</td><td>11545</td><td>776872</td><td>193880</td><td>12641</td><td>570351</td><td>31384</td><td>29250</td><td>39</td><td>8</td><td>2.533564313555652</td></tr><tr><th>14</th><td>2008</td><td>Dutchess</td><td>75,000 - 99,999</td><td>NA</td><td>12391</td><td>1077050</td><td>243939</td><td>12581</td><td>820530</td><td>47708</td><td>43152</td><td>19</td><td>9</td><td>3.4825276410297796</td></tr><tr><th>15</th><td>2012</td><td>Cortland</td><td>30,000 - 39,999</td><td>NA</td><td>2069</td><td>71838</td><td>22572</td><td>1308</td><td>47958</td><td>2323</td><td>1569</td><td>17</td><td>5</td><td>0.7583373610439826</td></tr><tr><th>16</th><td>2000</td><td>New York City - Kings</td><td>5,000 - 9,999</td><td>NA</td><td>125794</td><td>951643</td><td>885145</td><td>1297</td><td>65177</td><td>2609</td><td>-33624</td><td>2</td><td>2</td><td>-0.2672941475746061</td></tr><tr><th>17</th><td>2008</td><td>Dutchess</td><td>60,000 - 74,999</td><td>NA</td><td>9577</td><td>643643</td><td>162693</td><td>7664</td><td>473287</td><td>26541</td><td>23772</td><td>19</td><td>8</td><td>2.482196930145139</td></tr><tr><th>18</th><td>2012</td><td>Ulster</td><td>5,000 - 9,999</td><td>NA</td><td>7048</td><td>52553</td><td>44434</td><td>68</td><td>8051</td><td>322</td><td>-990</td><td>57</td><td>2</td><td>-0.14046538024971622</td></tr><tr><th>19</th><td>2010</td><td>Ontario</td><td>200,000 - 249,999</td><td>NA</td><td>408</td><td>90828</td><td>9708</td><td>535</td><td>80585</td><td>5524</td><td>5281</td><td>38</td><td>11</td><td>12.943627450980392</td></tr><tr><th>20</th><td>2006</td><td>Oswego</td><td>100,000 - 199,999</td><td>NA</td><td>2778</td><td>346108</td><td>49078</td><td>3367</td><td>293655</td><td>18928</td><td>18020</td><td>41</td><td>10</td><td>6.486681065514759</td></tr><tr><th>21</th><td>2010</td><td>Oswego</td><td>Total</td><td>NA</td><td>50958</td><td>2023764</td><td>519529</td><td>28462</td><td>1492712</td><td>86962</td><td>72297</td><td>41</td><td>14</td><td>1.4187566231013775</td></tr><tr><th>22</th><td>2002</td><td>Sullivan</td><td>50,000 - 59,999</td><td>NA</td><td>1676</td><td>91734</td><td>22835</td><td>1638</td><td>67261</td><td>3508</td><td>3397</td><td>54</td><td>7</td><td>2.0268496420047732</td></tr><tr><th>23</th><td>2010</td><td>Rockland</td><td>10,000 - 19,999</td><td>NA</td><td>18173</td><td>268331</td><td>182753</td><td>7661</td><td>77918</td><td>3182</td><td>-7399</td><td>45</td><td>3</td><td>-0.40714246409508614</td></tr><tr><th>24</th><td>2003</td><td>Delaware</td><td>60,000 - 74,999</td><td>NA</td><td>1075</td><td>71844</td><td>15672</td><td>1093</td><td>55079</td><td>2974</td><td>2893</td><td>18</td><td>8</td><td>2.6911627906976743</td></tr><tr><th>25</th><td>2005</td><td>Washington</td><td>75,000 - 99,999</td><td>NA</td><td>1572</td><td>135013</td><td>24832</td><td>1705</td><td>108477</td><td>6233</td><td>5794</td><td>59</td><td>9</td><td>3.6857506361323153</td></tr><tr><th>26</th><td>2002</td><td>Fulton</td><td>100,000 - 199,999</td><td>NA</td><td>632</td><td>80160</td><td>10662</td><td>659</td><td>68840</td><td>4455</td><td>4380</td><td>23</td><td>10</td><td>6.930379746835443</td></tr><tr><th>27</th><td>2006</td><td>Schoharie</td><td>20,000 - 29,999</td><td>NA</td><td>1769</td><td>43849</td><td>18874</td><td>1040</td><td>23935</td><td>1066</td><td>486</td><td>49</td><td>4</td><td>0.27473148671565856</td></tr><tr><th>28</th><td>2003</td><td>Genesee</td><td>40,000 - 49,999</td><td>NA</td><td>2154</td><td>96606</td><td>27572</td><td>2161</td><td>66873</td><td>3289</td><td>3166</td><td>24</td><td>6</td><td>1.4698235840297122</td></tr><tr><th>29</th><td>2007</td><td>Seneca</td><td>40,000 - 49,999</td><td>NA</td><td>1174</td><td>52525</td><td>14772</td><td>902</td><td>36851</td><td>1871</td><td>1517</td><td>51</td><td>6</td><td>1.2921635434412266</td></tr><tr><th>30</th><td>2002</td><td>Albany</td><td>10,000 - 19,999</td><td>NA</td><td>19684</td><td>292594</td><td>176319</td><td>6563</td><td>109712</td><td>4471</td><td>-248</td><td>7</td><td>3</td><td>-0.012599065230644179</td></tr><tr><th>&vellip;</th><td>&vellip;</td><td>&vellip;</td><td>&vellip;</td><td>&vellip;</td><td>&vellip;</td><td>&vellip;</td><td>&vellip;</td><td>&vellip;</td><td>&vellip;</td><td>&vellip;</td><td>&vellip;</td><td>&vellip;</td><td>&vellip;</td><td>&vellip;</td></tr></tbody></table>"
      ],
      "text/plain": [
       "12528×14 DataFrames.DataFrame\n",
       "│ Row   │ Year │ County                     │ IncomeClass         │ Disclosure │\n",
       "├───────┼──────┼────────────────────────────┼─────────────────────┼────────────┤\n",
       "│ 1     │ 2003 │ \"Dutchess\"                 │ \"100,000 - 199,999\" │ NA         │\n",
       "│ 2     │ 2001 │ \"Ontario\"                  │ \"Total\"             │ NA         │\n",
       "│ 3     │ 2012 │ \"New York City - Richmond\" │ \"30,000 - 39,999\"   │ NA         │\n",
       "│ 4     │ 2007 │ \"Clinton\"                  │ \"50,000 - 59,999\"   │ NA         │\n",
       "│ 5     │ 1999 │ \"Saratoga\"                 │ \"Total\"             │ NA         │\n",
       "│ 6     │ 2010 │ \"Onondaga\"                 │ \"60,000 - 74,999\"   │ NA         │\n",
       "│ 7     │ 2008 │ \"Ulster\"                   │ \"40,000 - 49,999\"   │ NA         │\n",
       "│ 8     │ 2005 │ \"Clinton\"                  │ \"Total\"             │ NA         │\n",
       "│ 9     │ 2007 │ \"Livingston\"               │ \"200,000 - 249,999\" │ NA         │\n",
       "│ 10    │ 2012 │ \"Washington\"               │ \"500,000 and over\"  │ NA         │\n",
       "│ 11    │ 2011 │ \"New York City - Kings\"    │ \"100,000 - 199,999\" │ NA         │\n",
       "⋮\n",
       "│ 12517 │ 2013 │ \"Residence Unknown ++\"     │ \"10,000 - 19,999\"   │ NA         │\n",
       "│ 12518 │ 2013 │ \"Residence Unknown ++\"     │ \"20,000 - 29,999\"   │ NA         │\n",
       "│ 12519 │ 2013 │ \"Residence Unknown ++\"     │ \"30,000 - 39,999\"   │ NA         │\n",
       "│ 12520 │ 2013 │ \"Residence Unknown ++\"     │ \"40,000 - 49,999\"   │ NA         │\n",
       "│ 12521 │ 2013 │ \"Residence Unknown ++\"     │ \"50,000 - 59,999\"   │ NA         │\n",
       "│ 12522 │ 2013 │ \"Residence Unknown ++\"     │ \"60,000 - 74,999\"   │ NA         │\n",
       "│ 12523 │ 2013 │ \"Residence Unknown ++\"     │ \"75,000 - 99,999\"   │ NA         │\n",
       "│ 12524 │ 2013 │ \"Residence Unknown ++\"     │ \"100,000 - 199,999\" │ NA         │\n",
       "│ 12525 │ 2013 │ \"Residence Unknown ++\"     │ \"200,000 - 249,999\" │ NA         │\n",
       "│ 12526 │ 2013 │ \"Residence Unknown ++\"     │ \"250,000 - 499,999\" │ NA         │\n",
       "│ 12527 │ 2013 │ \"Residence Unknown ++\"     │ \"500,000 and over\"  │ NA         │\n",
       "│ 12528 │ 2013 │ \"Residence Unknown ++\"     │ \"Total\"             │ NA         │\n",
       "\n",
       "│ Row   │ ReturnCount │ TotalIncome │ TotalDeductions │ TotalExemptions │\n",
       "├───────┼─────────────┼─────────────┼─────────────────┼─────────────────┤\n",
       "│ 1     │ 12738       │ 1668991     │ 261775          │ 16628           │\n",
       "│ 2     │ 44898       │ 1829734     │ 449962          │ 25393           │\n",
       "│ 3     │ 16086       │ 559918      │ 192402          │ 10519           │\n",
       "│ 4     │ 2197        │ 120482      │ 29429           │ 1649            │\n",
       "│ 5     │ 88920       │ 3969074     │ 883753          │ 51293           │\n",
       "│ 6     │ 13837       │ 928570      │ 195635          │ 11010           │\n",
       "│ 7     │ 5971        │ 266988      │ 77044           │ 3435            │\n",
       "│ 8     │ 33634       │ 1284580     │ 332270          │ 17436           │\n",
       "│ 9     │ 104         │ 22811       │ 2165            │ 135             │\n",
       "│ 10    │ 35          │ 44397       │ 1770            │ 12              │\n",
       "│ 11    │ 65072       │ 8717982     │ 1220269         │ 57409           │\n",
       "⋮\n",
       "│ 12517 │ 1118        │ 16366       │ 11013           │ 475             │\n",
       "│ 12518 │ 741         │ 18389       │ 8519            │ 611             │\n",
       "│ 12519 │ 555         │ 19240       │ 6821            │ 473             │\n",
       "│ 12520 │ 341         │ 15309       │ 4797            │ 230             │\n",
       "│ 12521 │ 299         │ 16294       │ 4246            │ 137             │\n",
       "│ 12522 │ 294         │ 19698       │ 4452            │ 167             │\n",
       "│ 12523 │ 349         │ 30106       │ 6249            │ 190             │\n",
       "│ 12524 │ 527         │ 74543       │ 10177           │ 282             │\n",
       "│ 12525 │ 127         │ 28013       │ 3219            │ 93              │\n",
       "│ 12526 │ 223         │ 79218       │ 5876            │ 174             │\n",
       "│ 12527 │ 326         │ 872846      │ 14092           │ 290             │\n",
       "│ 12528 │ 7612        │ 1087357     │ 85023           │ 3138            │\n",
       "\n",
       "│ Row   │ TotalTaxableIncome │ TotalTaxBeforeCredits │ TotalTaxLiability │\n",
       "├───────┼────────────────────┼───────────────────────┼───────────────────┤\n",
       "│ 1     │ 1390589            │ 91652                 │ 87689             │\n",
       "│ 2     │ 1354378            │ 77454                 │ 72764             │\n",
       "│ 3     │ 356997             │ 17286                 │ 12238             │\n",
       "│ 4     │ 89404              │ 4738                  │ 4220              │\n",
       "│ 5     │ 3034030            │ 175973                │ 169908            │\n",
       "│ 6     │ 721925             │ 40503                 │ 37426             │\n",
       "│ 7     │ 186509             │ 9728                  │ 8672              │\n",
       "│ 8     │ 934774             │ 53837                 │ 44740             │\n",
       "│ 9     │ 20511              │ 1405                  │ 872               │\n",
       "│ 10    │ 42614              │ 3256                  │ 3033              │\n",
       "│ 11    │ 7440304            │ 491796                │ 471949            │\n",
       "⋮\n",
       "│ 12517 │ 4878               │ 198                   │ -334              │\n",
       "│ 12518 │ 9259               │ 409                   │ 47                │\n",
       "│ 12519 │ 11946              │ 569                   │ 302               │\n",
       "│ 12520 │ 10283              │ 522                   │ 434               │\n",
       "│ 12521 │ 11911              │ 639                   │ 557               │\n",
       "│ 12522 │ 15079              │ 838                   │ 770               │\n",
       "│ 12523 │ 23667              │ 1366                  │ 1247              │\n",
       "│ 12524 │ 64083              │ 4095                  │ 3720              │\n",
       "│ 12525 │ 24702              │ 1643                  │ 1469              │\n",
       "│ 12526 │ 73168              │ 4972                  │ 4492              │\n",
       "│ 12527 │ 858465             │ 71780                 │ 63360             │\n",
       "│ 12528 │ 1107923            │ 87051                 │ 75763             │\n",
       "\n",
       "│ Row   │ Place_of_Residence_Sort_Order │ Income_Class_Sort_Order │ avg_tax   │\n",
       "├───────┼───────────────────────────────┼─────────────────────────┼───────────┤\n",
       "│ 1     │ 19                            │ 10                      │ 6.88405   │\n",
       "│ 2     │ 38                            │ 12                      │ 1.62065   │\n",
       "│ 3     │ 5                             │ 5                       │ 0.760786  │\n",
       "│ 4     │ 15                            │ 7                       │ 1.9208    │\n",
       "│ 5     │ 47                            │ 12                      │ 1.9108    │\n",
       "│ 6     │ 37                            │ 8                       │ 2.70478   │\n",
       "│ 7     │ 57                            │ 6                       │ 1.45235   │\n",
       "│ 8     │ 15                            │ 12                      │ 1.3302    │\n",
       "│ 9     │ 30                            │ 11                      │ 8.38462   │\n",
       "│ 10    │ 59                            │ 13                      │ 86.6571   │\n",
       "│ 11    │ 2                             │ 10                      │ 7.25272   │\n",
       "⋮\n",
       "│ 12517 │ 66                            │ 3                       │ -0.298748 │\n",
       "│ 12518 │ 66                            │ 4                       │ 0.0634278 │\n",
       "│ 12519 │ 66                            │ 5                       │ 0.544144  │\n",
       "│ 12520 │ 66                            │ 6                       │ 1.27273   │\n",
       "│ 12521 │ 66                            │ 7                       │ 1.86288   │\n",
       "│ 12522 │ 66                            │ 8                       │ 2.61905   │\n",
       "│ 12523 │ 66                            │ 9                       │ 3.57307   │\n",
       "│ 12524 │ 66                            │ 10                      │ 7.05882   │\n",
       "│ 12525 │ 66                            │ 11                      │ 11.5669   │\n",
       "│ 12526 │ 66                            │ 12                      │ 20.1435   │\n",
       "│ 12527 │ 66                            │ 13                      │ 194.356   │\n",
       "│ 12528 │ 66                            │ 14                      │ 9.9531    │"
      ]
     },
     "execution_count": 6,
     "metadata": {},
     "output_type": "execute_result"
    }
   ],
   "source": [
    "# clean data\n",
    "tax = tax[!isna(tax[:ReturnCount]), :];\n",
    "sort(tax, cols = :Year)\n",
    "\n",
    "# create new columns\n",
    "tax[:avg_tax] = tax[:TotalTaxLiability]./tax[:ReturnCount];\n",
    "tax"
   ]
  },
  {
   "cell_type": "code",
   "execution_count": 12,
   "metadata": {
    "collapsed": false
   },
   "outputs": [
    {
     "ename": "LoadError",
     "evalue": "type UTF8String has no field type",
     "output_type": "error",
     "traceback": [
      "type UTF8String has no field type",
      ""
     ]
    }
   ],
   "source": [
    "(tax[1,3]).type"
   ]
  },
  {
   "cell_type": "markdown",
   "metadata": {},
   "source": [
    "# a)"
   ]
  },
  {
   "cell_type": "markdown",
   "metadata": {},
   "source": [
    "Plot the number of returns in Tompkins County over time.\n"
   ]
  },
  {
   "cell_type": "code",
   "execution_count": 15,
   "metadata": {
    "collapsed": false
   },
   "outputs": [
    {
     "data": {
      "text/plain": [
       "Dict{AbstractString,Int64} with 15 entries:\n",
       "  \"Under 5,000\"       => 15\n",
       "  \"250,000 - 499,999\" => 7\n",
       "  \"50,000 - 59,999\"   => 15\n",
       "  \"Total\"             => 15\n",
       "  \"40,000 - 49,999\"   => 15\n",
       "  \"75,000 - 99,999\"   => 15\n",
       "  \"200,000 and over\"  => 8\n",
       "  \"100,000 - 199,999\" => 15\n",
       "  \"30,000 - 39,999\"   => 15\n",
       "  \"500,000 and over\"  => 7\n",
       "  \"5,000 - 9,999\"     => 15\n",
       "  \"10,000 - 19,999\"   => 15\n",
       "  \"200,000 - 249,999\" => 7\n",
       "  \"60,000 - 74,999\"   => 15\n",
       "  \"20,000 - 29,999\"   => 15"
      ]
     },
     "execution_count": 15,
     "metadata": {},
     "output_type": "execute_result"
    }
   ],
   "source": [
    "# get the number of rows and columns of the dataset\n",
    "n, m = size(tax)\n",
    "# create a dictionary to calculate the number of individuals who reported in each income class\n",
    "# keys of the dictionary are the \"IncomeClass\" and values are number of people who reported.\n",
    "tompkinsDict = Dict{AbstractString ,Int64}()\n",
    "for i = 1:n\n",
    "    if tax[i,2] == \"Tompkins\"\n",
    "        # do something\n",
    "        if (get(tompkinsDict,tax[i,3],0) == 0)\n",
    "            # add that income level to the dictionary\n",
    "            tompkinsDict[tax[i,3]] = 1\n",
    "        else\n",
    "            # add one more value to the existing key\n",
    "            tompkinsDict[tax[i,3]] = tompkinsDict[tax[i,3]] + 1\n",
    "        end\n",
    "    end\n",
    "end\n",
    "tompkinsDict # \n"
   ]
  },
  {
   "cell_type": "markdown",
   "metadata": {},
   "source": [
    "\n",
    "Plot the average income tax per return in Tompkins County (disregarding income tax)."
   ]
  },
  {
   "cell_type": "code",
   "execution_count": null,
   "metadata": {
    "collapsed": false
   },
   "outputs": [],
   "source": []
  },
  {
   "cell_type": "markdown",
   "metadata": {},
   "source": [
    "What kind of plot did you choose to make? Why?"
   ]
  },
  {
   "cell_type": "markdown",
   "metadata": {},
   "source": [
    "# b)"
   ]
  },
  {
   "cell_type": "markdown",
   "metadata": {},
   "source": [
    "Continuing to look only at Tompkins County and disregarding income class, fit a model that predicts avg_tax using the year number. Do this with least squares."
   ]
  },
  {
   "cell_type": "code",
   "execution_count": null,
   "metadata": {
    "collapsed": false
   },
   "outputs": [],
   "source": []
  },
  {
   "cell_type": "markdown",
   "metadata": {},
   "source": [
    "Transform the input to include an offset term in the model. Call the coefficients from this model $w^b$"
   ]
  },
  {
   "cell_type": "code",
   "execution_count": null,
   "metadata": {
    "collapsed": false
   },
   "outputs": [],
   "source": []
  },
  {
   "cell_type": "markdown",
   "metadata": {},
   "source": [
    "# c)"
   ]
  },
  {
   "cell_type": "markdown",
   "metadata": {},
   "source": [
    "Now we will change the feature space.\n",
    "Fit a model using the year and the avg_tax from the previous year."
   ]
  },
  {
   "cell_type": "code",
   "execution_count": null,
   "metadata": {
    "collapsed": false
   },
   "outputs": [],
   "source": []
  },
  {
   "cell_type": "markdown",
   "metadata": {},
   "source": [
    "Call these coefficients $w^c$. Interpret these coefficients. What do they mean?\n",
    "\n",
    "Plot the real average tax return per year against your model's prediction. Discuss how you think your model fits."
   ]
  },
  {
   "cell_type": "code",
   "execution_count": null,
   "metadata": {
    "collapsed": false
   },
   "outputs": [],
   "source": []
  },
  {
   "cell_type": "markdown",
   "metadata": {},
   "source": [
    "# d)"
   ]
  },
  {
   "cell_type": "markdown",
   "metadata": {},
   "source": [
    "Add two new features to your model. This could be a column of the data, a transformation of a column, or a new column formed from another. The only requirement is that the prediction in year $t$ be based on data avilable by the end of year $t-1$\n",
    "\n",
    "Fit this model and interpret the coefficients. Call these $w^d$ "
   ]
  },
  {
   "cell_type": "code",
   "execution_count": null,
   "metadata": {
    "collapsed": false
   },
   "outputs": [],
   "source": []
  },
  {
   "cell_type": "markdown",
   "metadata": {},
   "source": [
    "# e)"
   ]
  },
  {
   "cell_type": "markdown",
   "metadata": {},
   "source": [
    "Compare the coefficients from part c and d (that is $w_c$ and $w_d$). Does the coefficient of avg_tax (of the previous year) differ in the two models? If so, how do you interpret this difference?"
   ]
  },
  {
   "cell_type": "markdown",
   "metadata": {},
   "source": [
    "# f)"
   ]
  },
  {
   "cell_type": "markdown",
   "metadata": {},
   "source": [
    "Now we want to see how this model performs in other counties. Apply the model you fit in part c, with coefficients $w^c$, to data from the other counties and compute the error of this model on each data set.\n",
    "\n",
    "Plot a histogram of the mean errors the model makes."
   ]
  },
  {
   "cell_type": "code",
   "execution_count": null,
   "metadata": {
    "collapsed": false,
    "scrolled": true
   },
   "outputs": [],
   "source": []
  },
  {
   "cell_type": "markdown",
   "metadata": {
    "collapsed": false
   },
   "source": [
    "Are there major outliers?"
   ]
  },
  {
   "cell_type": "markdown",
   "metadata": {},
   "source": [
    "# g)"
   ]
  },
  {
   "cell_type": "markdown",
   "metadata": {},
   "source": [
    "Using the same features you chose in part d, fit a model to the data for each of the other counties. These will be county-specific models. They may have different coefficient vectors from $w^d$.\n",
    "\n",
    "Plot a histogram of the mean square errors of the county-specific models for their respective counties."
   ]
  },
  {
   "cell_type": "code",
   "execution_count": null,
   "metadata": {
    "collapsed": false
   },
   "outputs": [],
   "source": []
  },
  {
   "cell_type": "markdown",
   "metadata": {
    "collapsed": false
   },
   "source": [
    "Again, are there major outliers? How do the coefficients compare across counties?"
   ]
  },
  {
   "cell_type": "code",
   "execution_count": null,
   "metadata": {
    "collapsed": false
   },
   "outputs": [],
   "source": []
  }
 ],
 "metadata": {
  "kernelspec": {
   "display_name": "Julia 0.4.7",
   "language": "julia",
   "name": "julia-0.4"
  },
  "language_info": {
   "file_extension": ".jl",
   "mimetype": "application/julia",
   "name": "julia",
   "version": "0.4.7"
  }
 },
 "nbformat": 4,
 "nbformat_minor": 0
}
